{
 "cells": [
  {
   "cell_type": "code",
   "execution_count": 36,
   "metadata": {},
   "outputs": [],
   "source": [
    "import pandas as pd\n",
    "import numpy as np\n",
    "import matplotlib.pyplot as plt\n",
    "import seaborn as sns\n",
    "%matplotlib inline\n",
    "plt.style.use('ggplot')"
   ]
  },
  {
   "cell_type": "code",
   "execution_count": 37,
   "metadata": {},
   "outputs": [
    {
     "data": {
      "text/html": [
       "<div>\n",
       "<style scoped>\n",
       "    .dataframe tbody tr th:only-of-type {\n",
       "        vertical-align: middle;\n",
       "    }\n",
       "\n",
       "    .dataframe tbody tr th {\n",
       "        vertical-align: top;\n",
       "    }\n",
       "\n",
       "    .dataframe thead th {\n",
       "        text-align: right;\n",
       "    }\n",
       "</style>\n",
       "<table border=\"1\" class=\"dataframe\">\n",
       "  <thead>\n",
       "    <tr style=\"text-align: right;\">\n",
       "      <th></th>\n",
       "      <th>Zone</th>\n",
       "      <th>District</th>\n",
       "      <th>Fiscal Month Number</th>\n",
       "      <th>Fiscal Year</th>\n",
       "      <th>Month Name</th>\n",
       "      <th>Diversion Rate-Total (Total Recycling / Total Waste)</th>\n",
       "      <th>Capture Rate-Paper (Total Paper / Max Paper)</th>\n",
       "      <th>Capture Rate-MGP (Total MGP / Max MGP)</th>\n",
       "      <th>Capture Rate-Total ((Total Recycling - Leaves (Recycling)) / (Max Paper + Max MGP))x100</th>\n",
       "    </tr>\n",
       "  </thead>\n",
       "  <tbody>\n",
       "    <tr>\n",
       "      <th>0</th>\n",
       "      <td>Brooklyn North</td>\n",
       "      <td>BKN01</td>\n",
       "      <td>10</td>\n",
       "      <td>2019</td>\n",
       "      <td>April</td>\n",
       "      <td>14.687093</td>\n",
       "      <td>44.909160</td>\n",
       "      <td>43.034062</td>\n",
       "      <td>44.146764</td>\n",
       "    </tr>\n",
       "    <tr>\n",
       "      <th>1</th>\n",
       "      <td>Brooklyn North</td>\n",
       "      <td>BKN02</td>\n",
       "      <td>10</td>\n",
       "      <td>2019</td>\n",
       "      <td>April</td>\n",
       "      <td>19.950181</td>\n",
       "      <td>34.194020</td>\n",
       "      <td>57.947031</td>\n",
       "      <td>41.213700</td>\n",
       "    </tr>\n",
       "    <tr>\n",
       "      <th>2</th>\n",
       "      <td>Brooklyn North</td>\n",
       "      <td>BKN03</td>\n",
       "      <td>10</td>\n",
       "      <td>2019</td>\n",
       "      <td>April</td>\n",
       "      <td>12.164161</td>\n",
       "      <td>33.521557</td>\n",
       "      <td>44.919731</td>\n",
       "      <td>38.155937</td>\n",
       "    </tr>\n",
       "    <tr>\n",
       "      <th>3</th>\n",
       "      <td>Brooklyn North</td>\n",
       "      <td>BKN04</td>\n",
       "      <td>10</td>\n",
       "      <td>2019</td>\n",
       "      <td>April</td>\n",
       "      <td>15.541803</td>\n",
       "      <td>35.211361</td>\n",
       "      <td>68.511260</td>\n",
       "      <td>48.750755</td>\n",
       "    </tr>\n",
       "    <tr>\n",
       "      <th>4</th>\n",
       "      <td>Brooklyn North</td>\n",
       "      <td>BKN05</td>\n",
       "      <td>10</td>\n",
       "      <td>2019</td>\n",
       "      <td>April</td>\n",
       "      <td>10.051845</td>\n",
       "      <td>22.265430</td>\n",
       "      <td>45.051791</td>\n",
       "      <td>31.530129</td>\n",
       "    </tr>\n",
       "    <tr>\n",
       "      <th>...</th>\n",
       "      <td>...</td>\n",
       "      <td>...</td>\n",
       "      <td>...</td>\n",
       "      <td>...</td>\n",
       "      <td>...</td>\n",
       "      <td>...</td>\n",
       "      <td>...</td>\n",
       "      <td>...</td>\n",
       "      <td>...</td>\n",
       "    </tr>\n",
       "    <tr>\n",
       "      <th>2827</th>\n",
       "      <td>Queens West</td>\n",
       "      <td>QW06</td>\n",
       "      <td>3</td>\n",
       "      <td>2016</td>\n",
       "      <td>September</td>\n",
       "      <td>20.121474</td>\n",
       "      <td>30.419689</td>\n",
       "      <td>67.956136</td>\n",
       "      <td>39.033308</td>\n",
       "    </tr>\n",
       "    <tr>\n",
       "      <th>2828</th>\n",
       "      <td>Queens West</td>\n",
       "      <td>QW09</td>\n",
       "      <td>3</td>\n",
       "      <td>2016</td>\n",
       "      <td>September</td>\n",
       "      <td>17.434862</td>\n",
       "      <td>41.106547</td>\n",
       "      <td>79.695072</td>\n",
       "      <td>54.272736</td>\n",
       "    </tr>\n",
       "    <tr>\n",
       "      <th>2829</th>\n",
       "      <td>Staten Island</td>\n",
       "      <td>SI01</td>\n",
       "      <td>3</td>\n",
       "      <td>2016</td>\n",
       "      <td>September</td>\n",
       "      <td>18.683835</td>\n",
       "      <td>39.519943</td>\n",
       "      <td>71.716492</td>\n",
       "      <td>49.652669</td>\n",
       "    </tr>\n",
       "    <tr>\n",
       "      <th>2830</th>\n",
       "      <td>Staten Island</td>\n",
       "      <td>SI02</td>\n",
       "      <td>3</td>\n",
       "      <td>2016</td>\n",
       "      <td>September</td>\n",
       "      <td>19.016819</td>\n",
       "      <td>44.457926</td>\n",
       "      <td>74.960200</td>\n",
       "      <td>54.057439</td>\n",
       "    </tr>\n",
       "    <tr>\n",
       "      <th>2831</th>\n",
       "      <td>Staten Island</td>\n",
       "      <td>SI03</td>\n",
       "      <td>3</td>\n",
       "      <td>2016</td>\n",
       "      <td>September</td>\n",
       "      <td>20.310479</td>\n",
       "      <td>48.209297</td>\n",
       "      <td>79.496877</td>\n",
       "      <td>58.055957</td>\n",
       "    </tr>\n",
       "  </tbody>\n",
       "</table>\n",
       "<p>2832 rows × 9 columns</p>\n",
       "</div>"
      ],
      "text/plain": [
       "                Zone District  Fiscal Month Number  Fiscal Year Month Name  \\\n",
       "0     Brooklyn North    BKN01                   10         2019      April   \n",
       "1     Brooklyn North    BKN02                   10         2019      April   \n",
       "2     Brooklyn North    BKN03                   10         2019      April   \n",
       "3     Brooklyn North    BKN04                   10         2019      April   \n",
       "4     Brooklyn North    BKN05                   10         2019      April   \n",
       "...              ...      ...                  ...          ...        ...   \n",
       "2827     Queens West     QW06                    3         2016  September   \n",
       "2828     Queens West     QW09                    3         2016  September   \n",
       "2829   Staten Island     SI01                    3         2016  September   \n",
       "2830   Staten Island     SI02                    3         2016  September   \n",
       "2831   Staten Island     SI03                    3         2016  September   \n",
       "\n",
       "      Diversion Rate-Total (Total Recycling / Total Waste)  \\\n",
       "0                                             14.687093      \n",
       "1                                             19.950181      \n",
       "2                                             12.164161      \n",
       "3                                             15.541803      \n",
       "4                                             10.051845      \n",
       "...                                                 ...      \n",
       "2827                                          20.121474      \n",
       "2828                                          17.434862      \n",
       "2829                                          18.683835      \n",
       "2830                                          19.016819      \n",
       "2831                                          20.310479      \n",
       "\n",
       "      Capture Rate-Paper (Total Paper / Max Paper)  \\\n",
       "0                                        44.909160   \n",
       "1                                        34.194020   \n",
       "2                                        33.521557   \n",
       "3                                        35.211361   \n",
       "4                                        22.265430   \n",
       "...                                            ...   \n",
       "2827                                     30.419689   \n",
       "2828                                     41.106547   \n",
       "2829                                     39.519943   \n",
       "2830                                     44.457926   \n",
       "2831                                     48.209297   \n",
       "\n",
       "      Capture Rate-MGP (Total MGP / Max MGP)  \\\n",
       "0                                  43.034062   \n",
       "1                                  57.947031   \n",
       "2                                  44.919731   \n",
       "3                                  68.511260   \n",
       "4                                  45.051791   \n",
       "...                                      ...   \n",
       "2827                               67.956136   \n",
       "2828                               79.695072   \n",
       "2829                               71.716492   \n",
       "2830                               74.960200   \n",
       "2831                               79.496877   \n",
       "\n",
       "      Capture Rate-Total ((Total Recycling - Leaves (Recycling)) / (Max Paper + Max MGP))x100  \n",
       "0                                             44.146764                                        \n",
       "1                                             41.213700                                        \n",
       "2                                             38.155937                                        \n",
       "3                                             48.750755                                        \n",
       "4                                             31.530129                                        \n",
       "...                                                 ...                                        \n",
       "2827                                          39.033308                                        \n",
       "2828                                          54.272736                                        \n",
       "2829                                          49.652669                                        \n",
       "2830                                          54.057439                                        \n",
       "2831                                          58.055957                                        \n",
       "\n",
       "[2832 rows x 9 columns]"
      ]
     },
     "execution_count": 37,
     "metadata": {},
     "output_type": "execute_result"
    }
   ],
   "source": [
    "recycle = pd.read_csv('recycling-diversion-and-capture-rates.csv')\n",
    "recycle"
   ]
  },
  {
   "cell_type": "code",
   "execution_count": 38,
   "metadata": {},
   "outputs": [],
   "source": [
    "recycle.drop(['District'], axis = 1, inplace= True)"
   ]
  },
  {
   "cell_type": "code",
   "execution_count": 39,
   "metadata": {},
   "outputs": [
    {
     "data": {
      "text/html": [
       "<div>\n",
       "<style scoped>\n",
       "    .dataframe tbody tr th:only-of-type {\n",
       "        vertical-align: middle;\n",
       "    }\n",
       "\n",
       "    .dataframe tbody tr th {\n",
       "        vertical-align: top;\n",
       "    }\n",
       "\n",
       "    .dataframe thead th {\n",
       "        text-align: right;\n",
       "    }\n",
       "</style>\n",
       "<table border=\"1\" class=\"dataframe\">\n",
       "  <thead>\n",
       "    <tr style=\"text-align: right;\">\n",
       "      <th></th>\n",
       "      <th>Zone</th>\n",
       "      <th>Day</th>\n",
       "      <th>Year</th>\n",
       "      <th>Month</th>\n",
       "      <th>Diversion Rate-Total</th>\n",
       "      <th>Capture Rate-Paper</th>\n",
       "      <th>Capture Rate-MGP</th>\n",
       "      <th>Capture Rate-Total</th>\n",
       "    </tr>\n",
       "  </thead>\n",
       "  <tbody>\n",
       "    <tr>\n",
       "      <th>0</th>\n",
       "      <td>Brooklyn North</td>\n",
       "      <td>10</td>\n",
       "      <td>2019</td>\n",
       "      <td>April</td>\n",
       "      <td>14.687093</td>\n",
       "      <td>44.909160</td>\n",
       "      <td>43.034062</td>\n",
       "      <td>44.146764</td>\n",
       "    </tr>\n",
       "    <tr>\n",
       "      <th>1</th>\n",
       "      <td>Brooklyn North</td>\n",
       "      <td>10</td>\n",
       "      <td>2019</td>\n",
       "      <td>April</td>\n",
       "      <td>19.950181</td>\n",
       "      <td>34.194020</td>\n",
       "      <td>57.947031</td>\n",
       "      <td>41.213700</td>\n",
       "    </tr>\n",
       "    <tr>\n",
       "      <th>2</th>\n",
       "      <td>Brooklyn North</td>\n",
       "      <td>10</td>\n",
       "      <td>2019</td>\n",
       "      <td>April</td>\n",
       "      <td>12.164161</td>\n",
       "      <td>33.521557</td>\n",
       "      <td>44.919731</td>\n",
       "      <td>38.155937</td>\n",
       "    </tr>\n",
       "    <tr>\n",
       "      <th>3</th>\n",
       "      <td>Brooklyn North</td>\n",
       "      <td>10</td>\n",
       "      <td>2019</td>\n",
       "      <td>April</td>\n",
       "      <td>15.541803</td>\n",
       "      <td>35.211361</td>\n",
       "      <td>68.511260</td>\n",
       "      <td>48.750755</td>\n",
       "    </tr>\n",
       "    <tr>\n",
       "      <th>4</th>\n",
       "      <td>Brooklyn North</td>\n",
       "      <td>10</td>\n",
       "      <td>2019</td>\n",
       "      <td>April</td>\n",
       "      <td>10.051845</td>\n",
       "      <td>22.265430</td>\n",
       "      <td>45.051791</td>\n",
       "      <td>31.530129</td>\n",
       "    </tr>\n",
       "    <tr>\n",
       "      <th>...</th>\n",
       "      <td>...</td>\n",
       "      <td>...</td>\n",
       "      <td>...</td>\n",
       "      <td>...</td>\n",
       "      <td>...</td>\n",
       "      <td>...</td>\n",
       "      <td>...</td>\n",
       "      <td>...</td>\n",
       "    </tr>\n",
       "    <tr>\n",
       "      <th>2827</th>\n",
       "      <td>Queens West</td>\n",
       "      <td>3</td>\n",
       "      <td>2016</td>\n",
       "      <td>September</td>\n",
       "      <td>20.121474</td>\n",
       "      <td>30.419689</td>\n",
       "      <td>67.956136</td>\n",
       "      <td>39.033308</td>\n",
       "    </tr>\n",
       "    <tr>\n",
       "      <th>2828</th>\n",
       "      <td>Queens West</td>\n",
       "      <td>3</td>\n",
       "      <td>2016</td>\n",
       "      <td>September</td>\n",
       "      <td>17.434862</td>\n",
       "      <td>41.106547</td>\n",
       "      <td>79.695072</td>\n",
       "      <td>54.272736</td>\n",
       "    </tr>\n",
       "    <tr>\n",
       "      <th>2829</th>\n",
       "      <td>Staten Island</td>\n",
       "      <td>3</td>\n",
       "      <td>2016</td>\n",
       "      <td>September</td>\n",
       "      <td>18.683835</td>\n",
       "      <td>39.519943</td>\n",
       "      <td>71.716492</td>\n",
       "      <td>49.652669</td>\n",
       "    </tr>\n",
       "    <tr>\n",
       "      <th>2830</th>\n",
       "      <td>Staten Island</td>\n",
       "      <td>3</td>\n",
       "      <td>2016</td>\n",
       "      <td>September</td>\n",
       "      <td>19.016819</td>\n",
       "      <td>44.457926</td>\n",
       "      <td>74.960200</td>\n",
       "      <td>54.057439</td>\n",
       "    </tr>\n",
       "    <tr>\n",
       "      <th>2831</th>\n",
       "      <td>Staten Island</td>\n",
       "      <td>3</td>\n",
       "      <td>2016</td>\n",
       "      <td>September</td>\n",
       "      <td>20.310479</td>\n",
       "      <td>48.209297</td>\n",
       "      <td>79.496877</td>\n",
       "      <td>58.055957</td>\n",
       "    </tr>\n",
       "  </tbody>\n",
       "</table>\n",
       "<p>2832 rows × 8 columns</p>\n",
       "</div>"
      ],
      "text/plain": [
       "                Zone  Day  Year      Month  Diversion Rate-Total  \\\n",
       "0     Brooklyn North   10  2019      April             14.687093   \n",
       "1     Brooklyn North   10  2019      April             19.950181   \n",
       "2     Brooklyn North   10  2019      April             12.164161   \n",
       "3     Brooklyn North   10  2019      April             15.541803   \n",
       "4     Brooklyn North   10  2019      April             10.051845   \n",
       "...              ...  ...   ...        ...                   ...   \n",
       "2827     Queens West    3  2016  September             20.121474   \n",
       "2828     Queens West    3  2016  September             17.434862   \n",
       "2829   Staten Island    3  2016  September             18.683835   \n",
       "2830   Staten Island    3  2016  September             19.016819   \n",
       "2831   Staten Island    3  2016  September             20.310479   \n",
       "\n",
       "      Capture Rate-Paper  Capture Rate-MGP  Capture Rate-Total  \n",
       "0              44.909160         43.034062           44.146764  \n",
       "1              34.194020         57.947031           41.213700  \n",
       "2              33.521557         44.919731           38.155937  \n",
       "3              35.211361         68.511260           48.750755  \n",
       "4              22.265430         45.051791           31.530129  \n",
       "...                  ...               ...                 ...  \n",
       "2827           30.419689         67.956136           39.033308  \n",
       "2828           41.106547         79.695072           54.272736  \n",
       "2829           39.519943         71.716492           49.652669  \n",
       "2830           44.457926         74.960200           54.057439  \n",
       "2831           48.209297         79.496877           58.055957  \n",
       "\n",
       "[2832 rows x 8 columns]"
      ]
     },
     "execution_count": 39,
     "metadata": {},
     "output_type": "execute_result"
    }
   ],
   "source": [
    "new_name = {'Fiscal Month Number': 'Day', 'Fiscal Year':'Year', 'Month Name': 'Month', 'Diversion Rate-Total (Total Recycling / Total Waste)': 'Diversion Rate-Total', 'Capture Rate-Paper (Total Paper / Max Paper)': 'Capture Rate-Paper', 'Capture Rate-MGP (Total MGP / Max MGP)':'Capture Rate-MGP', 'Capture Rate-Total ((Total Recycling - Leaves (Recycling)) / (Max Paper + Max MGP))x100': 'Capture Rate-Total'}\n",
    "recycle.rename(columns= new_name, inplace = True)\n",
    "recycle"
   ]
  },
  {
   "cell_type": "code",
   "execution_count": 40,
   "metadata": {},
   "outputs": [],
   "source": [
    "recycle.drop(['Day'], axis = 1, inplace= True)"
   ]
  },
  {
   "cell_type": "code",
   "execution_count": 41,
   "metadata": {},
   "outputs": [],
   "source": [
    "recycle.column= recycle.rename"
   ]
  },
  {
   "cell_type": "code",
   "execution_count": 42,
   "metadata": {},
   "outputs": [
    {
     "data": {
      "text/html": [
       "<div>\n",
       "<style scoped>\n",
       "    .dataframe tbody tr th:only-of-type {\n",
       "        vertical-align: middle;\n",
       "    }\n",
       "\n",
       "    .dataframe tbody tr th {\n",
       "        vertical-align: top;\n",
       "    }\n",
       "\n",
       "    .dataframe thead th {\n",
       "        text-align: right;\n",
       "    }\n",
       "</style>\n",
       "<table border=\"1\" class=\"dataframe\">\n",
       "  <thead>\n",
       "    <tr style=\"text-align: right;\">\n",
       "      <th></th>\n",
       "      <th>Zone</th>\n",
       "      <th>Year</th>\n",
       "      <th>Month</th>\n",
       "      <th>Diversion Rate-Total</th>\n",
       "      <th>Capture Rate-Paper</th>\n",
       "      <th>Capture Rate-MGP</th>\n",
       "      <th>Capture Rate-Total</th>\n",
       "    </tr>\n",
       "  </thead>\n",
       "  <tbody>\n",
       "    <tr>\n",
       "      <th>0</th>\n",
       "      <td>Mushin</td>\n",
       "      <td>2019</td>\n",
       "      <td>April</td>\n",
       "      <td>14.687093</td>\n",
       "      <td>44.909160</td>\n",
       "      <td>43.034062</td>\n",
       "      <td>44.146764</td>\n",
       "    </tr>\n",
       "    <tr>\n",
       "      <th>1</th>\n",
       "      <td>Mushin</td>\n",
       "      <td>2019</td>\n",
       "      <td>April</td>\n",
       "      <td>19.950181</td>\n",
       "      <td>34.194020</td>\n",
       "      <td>57.947031</td>\n",
       "      <td>41.213700</td>\n",
       "    </tr>\n",
       "    <tr>\n",
       "      <th>2</th>\n",
       "      <td>Mushin</td>\n",
       "      <td>2019</td>\n",
       "      <td>April</td>\n",
       "      <td>12.164161</td>\n",
       "      <td>33.521557</td>\n",
       "      <td>44.919731</td>\n",
       "      <td>38.155937</td>\n",
       "    </tr>\n",
       "    <tr>\n",
       "      <th>3</th>\n",
       "      <td>Mushin</td>\n",
       "      <td>2019</td>\n",
       "      <td>April</td>\n",
       "      <td>15.541803</td>\n",
       "      <td>35.211361</td>\n",
       "      <td>68.511260</td>\n",
       "      <td>48.750755</td>\n",
       "    </tr>\n",
       "    <tr>\n",
       "      <th>4</th>\n",
       "      <td>Mushin</td>\n",
       "      <td>2019</td>\n",
       "      <td>April</td>\n",
       "      <td>10.051845</td>\n",
       "      <td>22.265430</td>\n",
       "      <td>45.051791</td>\n",
       "      <td>31.530129</td>\n",
       "    </tr>\n",
       "    <tr>\n",
       "      <th>...</th>\n",
       "      <td>...</td>\n",
       "      <td>...</td>\n",
       "      <td>...</td>\n",
       "      <td>...</td>\n",
       "      <td>...</td>\n",
       "      <td>...</td>\n",
       "      <td>...</td>\n",
       "    </tr>\n",
       "    <tr>\n",
       "      <th>2827</th>\n",
       "      <td>Lekki</td>\n",
       "      <td>2016</td>\n",
       "      <td>September</td>\n",
       "      <td>20.121474</td>\n",
       "      <td>30.419689</td>\n",
       "      <td>67.956136</td>\n",
       "      <td>39.033308</td>\n",
       "    </tr>\n",
       "    <tr>\n",
       "      <th>2828</th>\n",
       "      <td>Lekki</td>\n",
       "      <td>2016</td>\n",
       "      <td>September</td>\n",
       "      <td>17.434862</td>\n",
       "      <td>41.106547</td>\n",
       "      <td>79.695072</td>\n",
       "      <td>54.272736</td>\n",
       "    </tr>\n",
       "    <tr>\n",
       "      <th>2829</th>\n",
       "      <td>Ikoyi</td>\n",
       "      <td>2016</td>\n",
       "      <td>September</td>\n",
       "      <td>18.683835</td>\n",
       "      <td>39.519943</td>\n",
       "      <td>71.716492</td>\n",
       "      <td>49.652669</td>\n",
       "    </tr>\n",
       "    <tr>\n",
       "      <th>2830</th>\n",
       "      <td>Ikoyi</td>\n",
       "      <td>2016</td>\n",
       "      <td>September</td>\n",
       "      <td>19.016819</td>\n",
       "      <td>44.457926</td>\n",
       "      <td>74.960200</td>\n",
       "      <td>54.057439</td>\n",
       "    </tr>\n",
       "    <tr>\n",
       "      <th>2831</th>\n",
       "      <td>Ikoyi</td>\n",
       "      <td>2016</td>\n",
       "      <td>September</td>\n",
       "      <td>20.310479</td>\n",
       "      <td>48.209297</td>\n",
       "      <td>79.496877</td>\n",
       "      <td>58.055957</td>\n",
       "    </tr>\n",
       "  </tbody>\n",
       "</table>\n",
       "<p>2832 rows × 7 columns</p>\n",
       "</div>"
      ],
      "text/plain": [
       "        Zone  Year      Month  Diversion Rate-Total  Capture Rate-Paper  \\\n",
       "0     Mushin  2019      April             14.687093           44.909160   \n",
       "1     Mushin  2019      April             19.950181           34.194020   \n",
       "2     Mushin  2019      April             12.164161           33.521557   \n",
       "3     Mushin  2019      April             15.541803           35.211361   \n",
       "4     Mushin  2019      April             10.051845           22.265430   \n",
       "...      ...   ...        ...                   ...                 ...   \n",
       "2827   Lekki  2016  September             20.121474           30.419689   \n",
       "2828   Lekki  2016  September             17.434862           41.106547   \n",
       "2829   Ikoyi  2016  September             18.683835           39.519943   \n",
       "2830   Ikoyi  2016  September             19.016819           44.457926   \n",
       "2831   Ikoyi  2016  September             20.310479           48.209297   \n",
       "\n",
       "      Capture Rate-MGP  Capture Rate-Total  \n",
       "0            43.034062           44.146764  \n",
       "1            57.947031           41.213700  \n",
       "2            44.919731           38.155937  \n",
       "3            68.511260           48.750755  \n",
       "4            45.051791           31.530129  \n",
       "...                ...                 ...  \n",
       "2827         67.956136           39.033308  \n",
       "2828         79.695072           54.272736  \n",
       "2829         71.716492           49.652669  \n",
       "2830         74.960200           54.057439  \n",
       "2831         79.496877           58.055957  \n",
       "\n",
       "[2832 rows x 7 columns]"
      ]
     },
     "execution_count": 42,
     "metadata": {},
     "output_type": "execute_result"
    }
   ],
   "source": [
    "recycle['Zone'] = recycle['Zone'].str.replace('Brooklyn North','Mushin')\n",
    "recycle['Zone'] = recycle['Zone'].str.replace('Brooklyn South','Magodo')\n",
    "recycle['Zone'] = recycle['Zone'].str.replace('Queens West','Lekki')\n",
    "recycle['Zone'] = recycle['Zone'].str.replace('Staten Island','Ikoyi')\n",
    "recycle['Zone'] = recycle['Zone'].str.replace('Manhattan','Yaba')\n",
    "recycle['Zone'] = recycle['Zone'].str.replace('Queens East','Ajah')\n",
    "recycle['Zone'] = recycle['Zone'].str.replace('Bronx','Agege')\n",
    "recycle"
   ]
  },
  {
   "cell_type": "code",
   "execution_count": 43,
   "metadata": {},
   "outputs": [
    {
     "name": "stdout",
     "output_type": "stream",
     "text": [
      "<class 'pandas.core.frame.DataFrame'>\n",
      "RangeIndex: 2832 entries, 0 to 2831\n",
      "Data columns (total 7 columns):\n",
      " #   Column                Non-Null Count  Dtype  \n",
      "---  ------                --------------  -----  \n",
      " 0   Zone                  2832 non-null   object \n",
      " 1   Year                  2832 non-null   int64  \n",
      " 2   Month                 2832 non-null   object \n",
      " 3   Diversion Rate-Total  2832 non-null   float64\n",
      " 4   Capture Rate-Paper    2832 non-null   float64\n",
      " 5   Capture Rate-MGP      2832 non-null   float64\n",
      " 6   Capture Rate-Total    2832 non-null   float64\n",
      "dtypes: float64(4), int64(1), object(2)\n",
      "memory usage: 155.0+ KB\n"
     ]
    }
   ],
   "source": [
    "recycle.info()"
   ]
  },
  {
   "cell_type": "code",
   "execution_count": 44,
   "metadata": {},
   "outputs": [
    {
     "data": {
      "text/html": [
       "<div>\n",
       "<style scoped>\n",
       "    .dataframe tbody tr th:only-of-type {\n",
       "        vertical-align: middle;\n",
       "    }\n",
       "\n",
       "    .dataframe tbody tr th {\n",
       "        vertical-align: top;\n",
       "    }\n",
       "\n",
       "    .dataframe thead th {\n",
       "        text-align: right;\n",
       "    }\n",
       "</style>\n",
       "<table border=\"1\" class=\"dataframe\">\n",
       "  <thead>\n",
       "    <tr style=\"text-align: right;\">\n",
       "      <th></th>\n",
       "      <th>Year</th>\n",
       "      <th>Diversion Rate-Total</th>\n",
       "      <th>Capture Rate-Paper</th>\n",
       "      <th>Capture Rate-MGP</th>\n",
       "      <th>Capture Rate-Total</th>\n",
       "    </tr>\n",
       "  </thead>\n",
       "  <tbody>\n",
       "    <tr>\n",
       "      <th>count</th>\n",
       "      <td>2832.000000</td>\n",
       "      <td>2832.000000</td>\n",
       "      <td>2832.000000</td>\n",
       "      <td>2832.000000</td>\n",
       "      <td>2832.000000</td>\n",
       "    </tr>\n",
       "    <tr>\n",
       "      <th>mean</th>\n",
       "      <td>2017.500000</td>\n",
       "      <td>17.484024</td>\n",
       "      <td>38.430224</td>\n",
       "      <td>61.224263</td>\n",
       "      <td>46.158228</td>\n",
       "    </tr>\n",
       "    <tr>\n",
       "      <th>std</th>\n",
       "      <td>1.118231</td>\n",
       "      <td>5.264458</td>\n",
       "      <td>9.011991</td>\n",
       "      <td>16.282308</td>\n",
       "      <td>9.496473</td>\n",
       "    </tr>\n",
       "    <tr>\n",
       "      <th>min</th>\n",
       "      <td>2016.000000</td>\n",
       "      <td>5.918559</td>\n",
       "      <td>16.924958</td>\n",
       "      <td>20.405512</td>\n",
       "      <td>18.491335</td>\n",
       "    </tr>\n",
       "    <tr>\n",
       "      <th>25%</th>\n",
       "      <td>2016.750000</td>\n",
       "      <td>13.752555</td>\n",
       "      <td>31.915717</td>\n",
       "      <td>48.385976</td>\n",
       "      <td>39.708986</td>\n",
       "    </tr>\n",
       "    <tr>\n",
       "      <th>50%</th>\n",
       "      <td>2017.500000</td>\n",
       "      <td>16.887150</td>\n",
       "      <td>37.757412</td>\n",
       "      <td>61.610488</td>\n",
       "      <td>46.310517</td>\n",
       "    </tr>\n",
       "    <tr>\n",
       "      <th>75%</th>\n",
       "      <td>2018.250000</td>\n",
       "      <td>21.008382</td>\n",
       "      <td>45.206990</td>\n",
       "      <td>74.461703</td>\n",
       "      <td>52.645142</td>\n",
       "    </tr>\n",
       "    <tr>\n",
       "      <th>max</th>\n",
       "      <td>2019.000000</td>\n",
       "      <td>33.754415</td>\n",
       "      <td>72.593840</td>\n",
       "      <td>101.784185</td>\n",
       "      <td>75.522365</td>\n",
       "    </tr>\n",
       "  </tbody>\n",
       "</table>\n",
       "</div>"
      ],
      "text/plain": [
       "              Year  Diversion Rate-Total  Capture Rate-Paper  \\\n",
       "count  2832.000000           2832.000000         2832.000000   \n",
       "mean   2017.500000             17.484024           38.430224   \n",
       "std       1.118231              5.264458            9.011991   \n",
       "min    2016.000000              5.918559           16.924958   \n",
       "25%    2016.750000             13.752555           31.915717   \n",
       "50%    2017.500000             16.887150           37.757412   \n",
       "75%    2018.250000             21.008382           45.206990   \n",
       "max    2019.000000             33.754415           72.593840   \n",
       "\n",
       "       Capture Rate-MGP  Capture Rate-Total  \n",
       "count       2832.000000         2832.000000  \n",
       "mean          61.224263           46.158228  \n",
       "std           16.282308            9.496473  \n",
       "min           20.405512           18.491335  \n",
       "25%           48.385976           39.708986  \n",
       "50%           61.610488           46.310517  \n",
       "75%           74.461703           52.645142  \n",
       "max          101.784185           75.522365  "
      ]
     },
     "execution_count": 44,
     "metadata": {},
     "output_type": "execute_result"
    }
   ],
   "source": [
    "recycle.describe()"
   ]
  },
  {
   "cell_type": "code",
   "execution_count": 45,
   "metadata": {},
   "outputs": [
    {
     "data": {
      "text/plain": [
       "June         236\n",
       "April        236\n",
       "February     236\n",
       "September    236\n",
       "August       236\n",
       "July         236\n",
       "March        236\n",
       "January      236\n",
       "November     236\n",
       "May          236\n",
       "October      236\n",
       "December     236\n",
       "Name: Month, dtype: int64"
      ]
     },
     "execution_count": 45,
     "metadata": {},
     "output_type": "execute_result"
    }
   ],
   "source": [
    "recycle['Month'].value_counts()"
   ]
  },
  {
   "cell_type": "code",
   "execution_count": 46,
   "metadata": {},
   "outputs": [
    {
     "data": {
      "text/plain": [
       "2016    708\n",
       "2018    708\n",
       "2017    708\n",
       "2019    708\n",
       "Name: Year, dtype: int64"
      ]
     },
     "execution_count": 46,
     "metadata": {},
     "output_type": "execute_result"
    }
   ],
   "source": [
    "recycle['Year'].value_counts()"
   ]
  },
  {
   "cell_type": "code",
   "execution_count": 47,
   "metadata": {},
   "outputs": [],
   "source": [
    "#month_csv = month_zone.to_csv('month_zone.csv')"
   ]
  },
  {
   "cell_type": "code",
   "execution_count": 48,
   "metadata": {},
   "outputs": [
    {
     "data": {
      "text/html": [
       "<div>\n",
       "<style scoped>\n",
       "    .dataframe tbody tr th:only-of-type {\n",
       "        vertical-align: middle;\n",
       "    }\n",
       "\n",
       "    .dataframe tbody tr th {\n",
       "        vertical-align: top;\n",
       "    }\n",
       "\n",
       "    .dataframe thead tr th {\n",
       "        text-align: left;\n",
       "    }\n",
       "</style>\n",
       "<table border=\"1\" class=\"dataframe\">\n",
       "  <thead>\n",
       "    <tr>\n",
       "      <th>Zone</th>\n",
       "      <th colspan=\"10\" halign=\"left\">Agege</th>\n",
       "      <th>...</th>\n",
       "      <th colspan=\"10\" halign=\"left\">Yaba</th>\n",
       "    </tr>\n",
       "    <tr>\n",
       "      <th>Month</th>\n",
       "      <th>April</th>\n",
       "      <th>August</th>\n",
       "      <th>December</th>\n",
       "      <th>February</th>\n",
       "      <th>January</th>\n",
       "      <th>July</th>\n",
       "      <th>June</th>\n",
       "      <th>March</th>\n",
       "      <th>May</th>\n",
       "      <th>November</th>\n",
       "      <th>...</th>\n",
       "      <th>December</th>\n",
       "      <th>February</th>\n",
       "      <th>January</th>\n",
       "      <th>July</th>\n",
       "      <th>June</th>\n",
       "      <th>March</th>\n",
       "      <th>May</th>\n",
       "      <th>November</th>\n",
       "      <th>October</th>\n",
       "      <th>September</th>\n",
       "    </tr>\n",
       "  </thead>\n",
       "  <tbody>\n",
       "    <tr>\n",
       "      <th>Year</th>\n",
       "      <td>2017.500000</td>\n",
       "      <td>2017.500000</td>\n",
       "      <td>2017.500000</td>\n",
       "      <td>2017.500000</td>\n",
       "      <td>2017.500000</td>\n",
       "      <td>2017.500000</td>\n",
       "      <td>2017.500000</td>\n",
       "      <td>2017.500000</td>\n",
       "      <td>2017.500000</td>\n",
       "      <td>2017.500000</td>\n",
       "      <td>...</td>\n",
       "      <td>2017.500000</td>\n",
       "      <td>2017.500000</td>\n",
       "      <td>2017.500000</td>\n",
       "      <td>2017.500000</td>\n",
       "      <td>2017.500000</td>\n",
       "      <td>2017.500000</td>\n",
       "      <td>2017.500000</td>\n",
       "      <td>2017.500000</td>\n",
       "      <td>2017.500000</td>\n",
       "      <td>2017.500000</td>\n",
       "    </tr>\n",
       "    <tr>\n",
       "      <th>Diversion Rate-Total</th>\n",
       "      <td>13.654438</td>\n",
       "      <td>13.118679</td>\n",
       "      <td>14.164000</td>\n",
       "      <td>13.842965</td>\n",
       "      <td>14.303782</td>\n",
       "      <td>13.036012</td>\n",
       "      <td>14.053529</td>\n",
       "      <td>13.583519</td>\n",
       "      <td>13.416527</td>\n",
       "      <td>13.475547</td>\n",
       "      <td>...</td>\n",
       "      <td>21.613839</td>\n",
       "      <td>20.920534</td>\n",
       "      <td>21.762624</td>\n",
       "      <td>19.317728</td>\n",
       "      <td>20.460106</td>\n",
       "      <td>20.738620</td>\n",
       "      <td>20.218378</td>\n",
       "      <td>20.343118</td>\n",
       "      <td>20.352100</td>\n",
       "      <td>20.438182</td>\n",
       "    </tr>\n",
       "    <tr>\n",
       "      <th>Capture Rate-Paper</th>\n",
       "      <td>32.101980</td>\n",
       "      <td>29.820266</td>\n",
       "      <td>33.928877</td>\n",
       "      <td>31.393655</td>\n",
       "      <td>31.332525</td>\n",
       "      <td>30.200753</td>\n",
       "      <td>34.144748</td>\n",
       "      <td>30.911226</td>\n",
       "      <td>31.363880</td>\n",
       "      <td>30.615466</td>\n",
       "      <td>...</td>\n",
       "      <td>44.244724</td>\n",
       "      <td>40.783308</td>\n",
       "      <td>40.944477</td>\n",
       "      <td>39.394088</td>\n",
       "      <td>42.087947</td>\n",
       "      <td>40.630753</td>\n",
       "      <td>40.736389</td>\n",
       "      <td>40.399032</td>\n",
       "      <td>40.413457</td>\n",
       "      <td>41.652899</td>\n",
       "    </tr>\n",
       "    <tr>\n",
       "      <th>Capture Rate-MGP</th>\n",
       "      <td>56.038417</td>\n",
       "      <td>51.389347</td>\n",
       "      <td>50.793950</td>\n",
       "      <td>53.908092</td>\n",
       "      <td>53.365368</td>\n",
       "      <td>51.100494</td>\n",
       "      <td>55.627756</td>\n",
       "      <td>52.087988</td>\n",
       "      <td>54.146022</td>\n",
       "      <td>53.229397</td>\n",
       "      <td>...</td>\n",
       "      <td>60.319743</td>\n",
       "      <td>62.675842</td>\n",
       "      <td>62.080884</td>\n",
       "      <td>57.083374</td>\n",
       "      <td>64.578392</td>\n",
       "      <td>60.646711</td>\n",
       "      <td>64.357132</td>\n",
       "      <td>63.560004</td>\n",
       "      <td>63.743390</td>\n",
       "      <td>63.034269</td>\n",
       "    </tr>\n",
       "    <tr>\n",
       "      <th>Capture Rate-Total</th>\n",
       "      <td>41.762341</td>\n",
       "      <td>38.576230</td>\n",
       "      <td>40.532128</td>\n",
       "      <td>40.290265</td>\n",
       "      <td>40.036340</td>\n",
       "      <td>38.674103</td>\n",
       "      <td>42.771754</td>\n",
       "      <td>39.261014</td>\n",
       "      <td>40.553847</td>\n",
       "      <td>39.279664</td>\n",
       "      <td>...</td>\n",
       "      <td>48.141129</td>\n",
       "      <td>46.676655</td>\n",
       "      <td>46.571176</td>\n",
       "      <td>44.390700</td>\n",
       "      <td>47.613601</td>\n",
       "      <td>45.921368</td>\n",
       "      <td>46.688330</td>\n",
       "      <td>45.863741</td>\n",
       "      <td>45.938861</td>\n",
       "      <td>46.523332</td>\n",
       "    </tr>\n",
       "  </tbody>\n",
       "</table>\n",
       "<p>5 rows × 84 columns</p>\n",
       "</div>"
      ],
      "text/plain": [
       "Zone                        Agege                                         \\\n",
       "Month                       April       August     December     February   \n",
       "Year                  2017.500000  2017.500000  2017.500000  2017.500000   \n",
       "Diversion Rate-Total    13.654438    13.118679    14.164000    13.842965   \n",
       "Capture Rate-Paper      32.101980    29.820266    33.928877    31.393655   \n",
       "Capture Rate-MGP        56.038417    51.389347    50.793950    53.908092   \n",
       "Capture Rate-Total      41.762341    38.576230    40.532128    40.290265   \n",
       "\n",
       "Zone                                                                      \\\n",
       "Month                     January         July         June        March   \n",
       "Year                  2017.500000  2017.500000  2017.500000  2017.500000   \n",
       "Diversion Rate-Total    14.303782    13.036012    14.053529    13.583519   \n",
       "Capture Rate-Paper      31.332525    30.200753    34.144748    30.911226   \n",
       "Capture Rate-MGP        53.365368    51.100494    55.627756    52.087988   \n",
       "Capture Rate-Total      40.036340    38.674103    42.771754    39.261014   \n",
       "\n",
       "Zone                                            ...         Yaba               \\\n",
       "Month                         May     November  ...     December     February   \n",
       "Year                  2017.500000  2017.500000  ...  2017.500000  2017.500000   \n",
       "Diversion Rate-Total    13.416527    13.475547  ...    21.613839    20.920534   \n",
       "Capture Rate-Paper      31.363880    30.615466  ...    44.244724    40.783308   \n",
       "Capture Rate-MGP        54.146022    53.229397  ...    60.319743    62.675842   \n",
       "Capture Rate-Total      40.553847    39.279664  ...    48.141129    46.676655   \n",
       "\n",
       "Zone                                                                      \\\n",
       "Month                     January         July         June        March   \n",
       "Year                  2017.500000  2017.500000  2017.500000  2017.500000   \n",
       "Diversion Rate-Total    21.762624    19.317728    20.460106    20.738620   \n",
       "Capture Rate-Paper      40.944477    39.394088    42.087947    40.630753   \n",
       "Capture Rate-MGP        62.080884    57.083374    64.578392    60.646711   \n",
       "Capture Rate-Total      46.571176    44.390700    47.613601    45.921368   \n",
       "\n",
       "Zone                                                                      \n",
       "Month                         May     November      October    September  \n",
       "Year                  2017.500000  2017.500000  2017.500000  2017.500000  \n",
       "Diversion Rate-Total    20.218378    20.343118    20.352100    20.438182  \n",
       "Capture Rate-Paper      40.736389    40.399032    40.413457    41.652899  \n",
       "Capture Rate-MGP        64.357132    63.560004    63.743390    63.034269  \n",
       "Capture Rate-Total      46.688330    45.863741    45.938861    46.523332  \n",
       "\n",
       "[5 rows x 84 columns]"
      ]
     },
     "execution_count": 48,
     "metadata": {},
     "output_type": "execute_result"
    }
   ],
   "source": [
    "month = recycle.groupby(['Zone', 'Month'])\n",
    "month = pd.DataFrame(month.mean())\n",
    "month_zone = pd.DataFrame(month.transpose())\n",
    "month_zone.head()"
   ]
  },
  {
   "cell_type": "code",
   "execution_count": 49,
   "metadata": {},
   "outputs": [
    {
     "data": {
      "text/html": [
       "<div>\n",
       "<style scoped>\n",
       "    .dataframe tbody tr th:only-of-type {\n",
       "        vertical-align: middle;\n",
       "    }\n",
       "\n",
       "    .dataframe tbody tr th {\n",
       "        vertical-align: top;\n",
       "    }\n",
       "\n",
       "    .dataframe thead tr th {\n",
       "        text-align: left;\n",
       "    }\n",
       "</style>\n",
       "<table border=\"1\" class=\"dataframe\">\n",
       "  <thead>\n",
       "    <tr>\n",
       "      <th>Zone</th>\n",
       "      <th colspan=\"4\" halign=\"left\">Agege</th>\n",
       "      <th colspan=\"4\" halign=\"left\">Ajah</th>\n",
       "      <th colspan=\"2\" halign=\"left\">Ikoyi</th>\n",
       "      <th>...</th>\n",
       "      <th colspan=\"2\" halign=\"left\">Magodo</th>\n",
       "      <th colspan=\"4\" halign=\"left\">Mushin</th>\n",
       "      <th colspan=\"4\" halign=\"left\">Yaba</th>\n",
       "    </tr>\n",
       "    <tr>\n",
       "      <th>Year</th>\n",
       "      <th>2016</th>\n",
       "      <th>2017</th>\n",
       "      <th>2018</th>\n",
       "      <th>2019</th>\n",
       "      <th>2016</th>\n",
       "      <th>2017</th>\n",
       "      <th>2018</th>\n",
       "      <th>2019</th>\n",
       "      <th>2016</th>\n",
       "      <th>2017</th>\n",
       "      <th>...</th>\n",
       "      <th>2018</th>\n",
       "      <th>2019</th>\n",
       "      <th>2016</th>\n",
       "      <th>2017</th>\n",
       "      <th>2018</th>\n",
       "      <th>2019</th>\n",
       "      <th>2016</th>\n",
       "      <th>2017</th>\n",
       "      <th>2018</th>\n",
       "      <th>2019</th>\n",
       "    </tr>\n",
       "  </thead>\n",
       "  <tbody>\n",
       "    <tr>\n",
       "      <th>Diversion Rate-Total</th>\n",
       "      <td>12.863750</td>\n",
       "      <td>13.192428</td>\n",
       "      <td>14.002092</td>\n",
       "      <td>14.400424</td>\n",
       "      <td>17.025429</td>\n",
       "      <td>18.111491</td>\n",
       "      <td>19.161385</td>\n",
       "      <td>18.940641</td>\n",
       "      <td>19.801364</td>\n",
       "      <td>20.372880</td>\n",
       "      <td>...</td>\n",
       "      <td>19.882650</td>\n",
       "      <td>19.326853</td>\n",
       "      <td>12.783042</td>\n",
       "      <td>13.451236</td>\n",
       "      <td>13.986998</td>\n",
       "      <td>14.410730</td>\n",
       "      <td>20.050348</td>\n",
       "      <td>20.431252</td>\n",
       "      <td>20.445461</td>\n",
       "      <td>21.032715</td>\n",
       "    </tr>\n",
       "    <tr>\n",
       "      <th>Capture Rate-Paper</th>\n",
       "      <td>31.626745</td>\n",
       "      <td>31.441579</td>\n",
       "      <td>31.582435</td>\n",
       "      <td>31.538157</td>\n",
       "      <td>39.239620</td>\n",
       "      <td>39.107158</td>\n",
       "      <td>38.249581</td>\n",
       "      <td>37.090960</td>\n",
       "      <td>45.201465</td>\n",
       "      <td>44.836932</td>\n",
       "      <td>...</td>\n",
       "      <td>44.963603</td>\n",
       "      <td>43.887192</td>\n",
       "      <td>32.581275</td>\n",
       "      <td>33.831179</td>\n",
       "      <td>34.430286</td>\n",
       "      <td>35.180279</td>\n",
       "      <td>40.894460</td>\n",
       "      <td>41.077807</td>\n",
       "      <td>40.407033</td>\n",
       "      <td>41.413845</td>\n",
       "    </tr>\n",
       "    <tr>\n",
       "      <th>Capture Rate-MGP</th>\n",
       "      <td>50.211468</td>\n",
       "      <td>52.730559</td>\n",
       "      <td>54.076910</td>\n",
       "      <td>56.746774</td>\n",
       "      <td>64.097687</td>\n",
       "      <td>67.619530</td>\n",
       "      <td>70.724608</td>\n",
       "      <td>70.639061</td>\n",
       "      <td>74.238039</td>\n",
       "      <td>79.276639</td>\n",
       "      <td>...</td>\n",
       "      <td>64.229165</td>\n",
       "      <td>64.335004</td>\n",
       "      <td>45.935711</td>\n",
       "      <td>48.469473</td>\n",
       "      <td>50.017169</td>\n",
       "      <td>51.240326</td>\n",
       "      <td>60.299539</td>\n",
       "      <td>62.296145</td>\n",
       "      <td>62.778294</td>\n",
       "      <td>63.074480</td>\n",
       "    </tr>\n",
       "    <tr>\n",
       "      <th>Capture Rate-Total</th>\n",
       "      <td>38.954160</td>\n",
       "      <td>39.878576</td>\n",
       "      <td>40.481846</td>\n",
       "      <td>41.479650</td>\n",
       "      <td>47.829993</td>\n",
       "      <td>49.004488</td>\n",
       "      <td>49.503868</td>\n",
       "      <td>48.737006</td>\n",
       "      <td>54.889395</td>\n",
       "      <td>56.308584</td>\n",
       "      <td>...</td>\n",
       "      <td>51.469520</td>\n",
       "      <td>50.813963</td>\n",
       "      <td>37.619999</td>\n",
       "      <td>39.383110</td>\n",
       "      <td>40.375340</td>\n",
       "      <td>41.257550</td>\n",
       "      <td>45.749464</td>\n",
       "      <td>46.446129</td>\n",
       "      <td>46.137464</td>\n",
       "      <td>46.991043</td>\n",
       "    </tr>\n",
       "  </tbody>\n",
       "</table>\n",
       "<p>4 rows × 28 columns</p>\n",
       "</div>"
      ],
      "text/plain": [
       "Zone                      Agege                                        Ajah  \\\n",
       "Year                       2016       2017       2018       2019       2016   \n",
       "Diversion Rate-Total  12.863750  13.192428  14.002092  14.400424  17.025429   \n",
       "Capture Rate-Paper    31.626745  31.441579  31.582435  31.538157  39.239620   \n",
       "Capture Rate-MGP      50.211468  52.730559  54.076910  56.746774  64.097687   \n",
       "Capture Rate-Total    38.954160  39.878576  40.481846  41.479650  47.829993   \n",
       "\n",
       "Zone                                                       Ikoyi             \\\n",
       "Year                       2017       2018       2019       2016       2017   \n",
       "Diversion Rate-Total  18.111491  19.161385  18.940641  19.801364  20.372880   \n",
       "Capture Rate-Paper    39.107158  38.249581  37.090960  45.201465  44.836932   \n",
       "Capture Rate-MGP      67.619530  70.724608  70.639061  74.238039  79.276639   \n",
       "Capture Rate-Total    49.004488  49.503868  48.737006  54.889395  56.308584   \n",
       "\n",
       "Zone                  ...     Magodo                Mushin             \\\n",
       "Year                  ...       2018       2019       2016       2017   \n",
       "Diversion Rate-Total  ...  19.882650  19.326853  12.783042  13.451236   \n",
       "Capture Rate-Paper    ...  44.963603  43.887192  32.581275  33.831179   \n",
       "Capture Rate-MGP      ...  64.229165  64.335004  45.935711  48.469473   \n",
       "Capture Rate-Total    ...  51.469520  50.813963  37.619999  39.383110   \n",
       "\n",
       "Zone                                             Yaba                        \\\n",
       "Year                       2018       2019       2016       2017       2018   \n",
       "Diversion Rate-Total  13.986998  14.410730  20.050348  20.431252  20.445461   \n",
       "Capture Rate-Paper    34.430286  35.180279  40.894460  41.077807  40.407033   \n",
       "Capture Rate-MGP      50.017169  51.240326  60.299539  62.296145  62.778294   \n",
       "Capture Rate-Total    40.375340  41.257550  45.749464  46.446129  46.137464   \n",
       "\n",
       "Zone                             \n",
       "Year                       2019  \n",
       "Diversion Rate-Total  21.032715  \n",
       "Capture Rate-Paper    41.413845  \n",
       "Capture Rate-MGP      63.074480  \n",
       "Capture Rate-Total    46.991043  \n",
       "\n",
       "[4 rows x 28 columns]"
      ]
     },
     "execution_count": 49,
     "metadata": {},
     "output_type": "execute_result"
    }
   ],
   "source": [
    "year = recycle.groupby(['Zone', 'Year'])\n",
    "year = year.mean()\n",
    "year_zone = year.transpose()\n",
    "year_zone"
   ]
  },
  {
   "cell_type": "code",
   "execution_count": 50,
   "metadata": {},
   "outputs": [],
   "source": [
    "#def split(y):\n",
    "    #for i in range(7):\n",
    "     #   data = y[4*i: 4*(i+1)]\n",
    "    #plt.figure()\n",
    "    #plt.subplots()\n"
   ]
  },
  {
   "cell_type": "markdown",
   "metadata": {},
   "source": [
    "there was a decline in the amount of paper from 2018 10 2019. could this be as a result of the go green initiative?"
   ]
  },
  {
   "cell_type": "code",
   "execution_count": 51,
   "metadata": {},
   "outputs": [
    {
     "data": {
      "text/html": [
       "<div>\n",
       "<style scoped>\n",
       "    .dataframe tbody tr th:only-of-type {\n",
       "        vertical-align: middle;\n",
       "    }\n",
       "\n",
       "    .dataframe tbody tr th {\n",
       "        vertical-align: top;\n",
       "    }\n",
       "\n",
       "    .dataframe thead th {\n",
       "        text-align: right;\n",
       "    }\n",
       "</style>\n",
       "<table border=\"1\" class=\"dataframe\">\n",
       "  <thead>\n",
       "    <tr style=\"text-align: right;\">\n",
       "      <th></th>\n",
       "      <th>Zone</th>\n",
       "    </tr>\n",
       "  </thead>\n",
       "  <tbody>\n",
       "    <tr>\n",
       "      <th>0</th>\n",
       "      <td>Agege</td>\n",
       "    </tr>\n",
       "    <tr>\n",
       "      <th>1</th>\n",
       "      <td>Ajah</td>\n",
       "    </tr>\n",
       "    <tr>\n",
       "      <th>2</th>\n",
       "      <td>Ikoyi</td>\n",
       "    </tr>\n",
       "    <tr>\n",
       "      <th>3</th>\n",
       "      <td>Lekki</td>\n",
       "    </tr>\n",
       "    <tr>\n",
       "      <th>4</th>\n",
       "      <td>Magodo</td>\n",
       "    </tr>\n",
       "    <tr>\n",
       "      <th>5</th>\n",
       "      <td>Mushin</td>\n",
       "    </tr>\n",
       "    <tr>\n",
       "      <th>6</th>\n",
       "      <td>Yaba</td>\n",
       "    </tr>\n",
       "  </tbody>\n",
       "</table>\n",
       "</div>"
      ],
      "text/plain": [
       "     Zone\n",
       "0   Agege\n",
       "1    Ajah\n",
       "2   Ikoyi\n",
       "3   Lekki\n",
       "4  Magodo\n",
       "5  Mushin\n",
       "6    Yaba"
      ]
     },
     "execution_count": 51,
     "metadata": {},
     "output_type": "execute_result"
    }
   ],
   "source": [
    "Zone_z = recycle.groupby('Zone').mean().index[0:8]\n",
    "Zone_x = pd.DataFrame(Zone_z)\n",
    "Zone_x"
   ]
  },
  {
   "cell_type": "code",
   "execution_count": 52,
   "metadata": {},
   "outputs": [
    {
     "data": {
      "text/plain": [
       "Zone\n",
       "Agege     14.0\n",
       "Ajah      18.0\n",
       "Ikoyi     20.0\n",
       "Lekki     19.0\n",
       "Magodo    19.0\n",
       "Mushin    14.0\n",
       "Yaba      20.0\n",
       "Name: Diversion Rate-Total, dtype: float64"
      ]
     },
     "execution_count": 52,
     "metadata": {},
     "output_type": "execute_result"
    }
   ],
   "source": [
    "Zone = recycle.groupby('Zone').mean()['Diversion Rate-Total']\n",
    "Zone.round()"
   ]
  },
  {
   "cell_type": "code",
   "execution_count": 53,
   "metadata": {},
   "outputs": [
    {
     "data": {
      "text/plain": [
       "Zone\n",
       "Agege     40.198558\n",
       "Ajah      48.768839\n",
       "Ikoyi     55.533794\n",
       "Lekki     51.505599\n",
       "Magodo    51.058554\n",
       "Mushin    39.659000\n",
       "Yaba      46.331025\n",
       "Name: Capture Rate-Total, dtype: float64"
      ]
     },
     "execution_count": 53,
     "metadata": {},
     "output_type": "execute_result"
    }
   ],
   "source": [
    "Zone_a = recycle.groupby('Zone').mean()['Capture Rate-Total']\n",
    "Zone_a"
   ]
  },
  {
   "cell_type": "code",
   "execution_count": 54,
   "metadata": {},
   "outputs": [
    {
     "data": {
      "text/html": [
       "<div>\n",
       "<style scoped>\n",
       "    .dataframe tbody tr th:only-of-type {\n",
       "        vertical-align: middle;\n",
       "    }\n",
       "\n",
       "    .dataframe tbody tr th {\n",
       "        vertical-align: top;\n",
       "    }\n",
       "\n",
       "    .dataframe thead th {\n",
       "        text-align: right;\n",
       "    }\n",
       "</style>\n",
       "<table border=\"1\" class=\"dataframe\">\n",
       "  <thead>\n",
       "    <tr style=\"text-align: right;\">\n",
       "      <th></th>\n",
       "      <th>ZONE</th>\n",
       "    </tr>\n",
       "  </thead>\n",
       "  <tbody>\n",
       "    <tr>\n",
       "      <th>0</th>\n",
       "      <td>Agege</td>\n",
       "    </tr>\n",
       "    <tr>\n",
       "      <th>1</th>\n",
       "      <td>Ajah</td>\n",
       "    </tr>\n",
       "    <tr>\n",
       "      <th>2</th>\n",
       "      <td>Ikoyi</td>\n",
       "    </tr>\n",
       "    <tr>\n",
       "      <th>3</th>\n",
       "      <td>Lekki</td>\n",
       "    </tr>\n",
       "    <tr>\n",
       "      <th>4</th>\n",
       "      <td>Magodo</td>\n",
       "    </tr>\n",
       "    <tr>\n",
       "      <th>5</th>\n",
       "      <td>Mushin</td>\n",
       "    </tr>\n",
       "    <tr>\n",
       "      <th>6</th>\n",
       "      <td>Yaba</td>\n",
       "    </tr>\n",
       "  </tbody>\n",
       "</table>\n",
       "</div>"
      ],
      "text/plain": [
       "     ZONE\n",
       "0   Agege\n",
       "1    Ajah\n",
       "2   Ikoyi\n",
       "3   Lekki\n",
       "4  Magodo\n",
       "5  Mushin\n",
       "6    Yaba"
      ]
     },
     "execution_count": 54,
     "metadata": {},
     "output_type": "execute_result"
    }
   ],
   "source": [
    "waste1 = pd.DataFrame({'ZONE':['Agege', 'Ajah', 'Ikoyi', 'Lekki', 'Magodo', 'Mushin', 'Yaba']})\n",
    "waste1"
   ]
  },
  {
   "cell_type": "code",
   "execution_count": 55,
   "metadata": {},
   "outputs": [],
   "source": [
    "waste2 = pd.DataFrame()"
   ]
  },
  {
   "cell_type": "code",
   "execution_count": 56,
   "metadata": {},
   "outputs": [
    {
     "data": {
      "text/plain": [
       "Zone\n",
       "Agege     31.547229\n",
       "Ajah      38.421830\n",
       "Ikoyi     44.488140\n",
       "Lekki     40.636283\n",
       "Magodo    44.946005\n",
       "Mushin    34.005755\n",
       "Yaba      40.948286\n",
       "Name: Capture Rate-Paper, dtype: float64"
      ]
     },
     "execution_count": 56,
     "metadata": {},
     "output_type": "execute_result"
    }
   ],
   "source": [
    "Zone_b = recycle.groupby('Zone').mean()['Capture Rate-Paper']\n",
    "Zone_b"
   ]
  },
  {
   "cell_type": "code",
   "execution_count": 57,
   "metadata": {},
   "outputs": [
    {
     "data": {
      "text/plain": [
       "Zone\n",
       "Agege     53.0\n",
       "Ajah      68.0\n",
       "Ikoyi     78.0\n",
       "Lekki     72.0\n",
       "Magodo    63.0\n",
       "Mushin    49.0\n",
       "Yaba      62.0\n",
       "Name: Capture Rate-MGP, dtype: float64"
      ]
     },
     "execution_count": 57,
     "metadata": {},
     "output_type": "execute_result"
    }
   ],
   "source": [
    "Zone_c = recycle.groupby('Zone').mean()['Capture Rate-MGP']\n",
    "Zone_c.round()"
   ]
  },
  {
   "cell_type": "markdown",
   "metadata": {},
   "source": [
    "### Exploratory Data Analysis"
   ]
  },
  {
   "cell_type": "code",
   "execution_count": 58,
   "metadata": {},
   "outputs": [
    {
     "data": {
      "text/html": [
       "<div>\n",
       "<style scoped>\n",
       "    .dataframe tbody tr th:only-of-type {\n",
       "        vertical-align: middle;\n",
       "    }\n",
       "\n",
       "    .dataframe tbody tr th {\n",
       "        vertical-align: top;\n",
       "    }\n",
       "\n",
       "    .dataframe thead th {\n",
       "        text-align: right;\n",
       "    }\n",
       "</style>\n",
       "<table border=\"1\" class=\"dataframe\">\n",
       "  <thead>\n",
       "    <tr style=\"text-align: right;\">\n",
       "      <th></th>\n",
       "      <th>Year</th>\n",
       "      <th>Diversion Rate-Total</th>\n",
       "      <th>Capture Rate-Paper</th>\n",
       "      <th>Capture Rate-MGP</th>\n",
       "      <th>Capture Rate-Total</th>\n",
       "    </tr>\n",
       "  </thead>\n",
       "  <tbody>\n",
       "    <tr>\n",
       "      <th>Year</th>\n",
       "      <td>1.000000</td>\n",
       "      <td>0.092625</td>\n",
       "      <td>-0.012949</td>\n",
       "      <td>0.110166</td>\n",
       "      <td>0.060768</td>\n",
       "    </tr>\n",
       "    <tr>\n",
       "      <th>Diversion Rate-Total</th>\n",
       "      <td>0.092625</td>\n",
       "      <td>1.000000</td>\n",
       "      <td>0.595113</td>\n",
       "      <td>0.823796</td>\n",
       "      <td>0.748865</td>\n",
       "    </tr>\n",
       "    <tr>\n",
       "      <th>Capture Rate-Paper</th>\n",
       "      <td>-0.012949</td>\n",
       "      <td>0.595113</td>\n",
       "      <td>1.000000</td>\n",
       "      <td>0.451435</td>\n",
       "      <td>0.866771</td>\n",
       "    </tr>\n",
       "    <tr>\n",
       "      <th>Capture Rate-MGP</th>\n",
       "      <td>0.110166</td>\n",
       "      <td>0.823796</td>\n",
       "      <td>0.451435</td>\n",
       "      <td>1.000000</td>\n",
       "      <td>0.809871</td>\n",
       "    </tr>\n",
       "    <tr>\n",
       "      <th>Capture Rate-Total</th>\n",
       "      <td>0.060768</td>\n",
       "      <td>0.748865</td>\n",
       "      <td>0.866771</td>\n",
       "      <td>0.809871</td>\n",
       "      <td>1.000000</td>\n",
       "    </tr>\n",
       "  </tbody>\n",
       "</table>\n",
       "</div>"
      ],
      "text/plain": [
       "                          Year  Diversion Rate-Total  Capture Rate-Paper  \\\n",
       "Year                  1.000000              0.092625           -0.012949   \n",
       "Diversion Rate-Total  0.092625              1.000000            0.595113   \n",
       "Capture Rate-Paper   -0.012949              0.595113            1.000000   \n",
       "Capture Rate-MGP      0.110166              0.823796            0.451435   \n",
       "Capture Rate-Total    0.060768              0.748865            0.866771   \n",
       "\n",
       "                      Capture Rate-MGP  Capture Rate-Total  \n",
       "Year                          0.110166            0.060768  \n",
       "Diversion Rate-Total          0.823796            0.748865  \n",
       "Capture Rate-Paper            0.451435            0.866771  \n",
       "Capture Rate-MGP              1.000000            0.809871  \n",
       "Capture Rate-Total            0.809871            1.000000  "
      ]
     },
     "execution_count": 58,
     "metadata": {},
     "output_type": "execute_result"
    }
   ],
   "source": [
    "recycle.corr()"
   ]
  },
  {
   "cell_type": "code",
   "execution_count": 59,
   "metadata": {},
   "outputs": [
    {
     "data": {
      "text/plain": [
       "Text(0.5, 1.0, 'Correlation between the waste factors')"
      ]
     },
     "execution_count": 59,
     "metadata": {},
     "output_type": "execute_result"
    },
    {
     "data": {
      "image/png": "[encoded data removed]",
      "text/plain": [
       "<Figure size 432x288 with 2 Axes>"
      ]
     },
     "metadata": {},
     "output_type": "display_data"
    }
   ],
   "source": [
    "sns.heatmap(recycle.corr()).set_title('Correlation between the waste factors')"
   ]
  },
  {
   "cell_type": "code",
   "execution_count": 29,
   "metadata": {},
   "outputs": [
    {
     "name": "stderr",
     "output_type": "stream",
     "text": [
      "C:\\Users\\HP PROBOOK 430 G3\\anaconda3\\lib\\site-packages\\seaborn\\categorical.py:3714: UserWarning: The `factorplot` function has been renamed to `catplot`. The original name will be removed in a future release. Please update your code. Note that the default `kind` in `factorplot` (`'point'`) has changed `'strip'` in `catplot`.\n",
      "  warnings.warn(msg)\n"
     ]
    },
    {
     "ename": "AttributeError",
     "evalue": "'FacetGrid' object has no attribute 'set_title'",
     "output_type": "error",
     "traceback": [
      "\u001b[1;31m---------------------------------------------------------------------------\u001b[0m",
      "\u001b[1;31mAttributeError\u001b[0m                            Traceback (most recent call last)",
      "\u001b[1;32m<ipython-input-29-4f303eb9ff22>\u001b[0m in \u001b[0;36m<module>\u001b[1;34m\u001b[0m\n\u001b[1;32m----> 1\u001b[1;33m \u001b[0msns\u001b[0m\u001b[1;33m.\u001b[0m\u001b[0mfactorplot\u001b[0m\u001b[1;33m(\u001b[0m\u001b[0mx\u001b[0m \u001b[1;33m=\u001b[0m \u001b[1;34m'Zone'\u001b[0m\u001b[1;33m,\u001b[0m \u001b[0mkind\u001b[0m\u001b[1;33m=\u001b[0m\u001b[1;34m'count'\u001b[0m\u001b[1;33m,\u001b[0m \u001b[0mheight\u001b[0m\u001b[1;33m=\u001b[0m \u001b[1;36m4\u001b[0m\u001b[1;33m,\u001b[0m \u001b[0maspect\u001b[0m\u001b[1;33m=\u001b[0m \u001b[1;36m2\u001b[0m\u001b[1;33m,\u001b[0m \u001b[0mcolor\u001b[0m \u001b[1;33m=\u001b[0m \u001b[1;32mTrue\u001b[0m\u001b[1;33m,\u001b[0m \u001b[0mpalette\u001b[0m \u001b[1;33m=\u001b[0m \u001b[1;34m'twilight_shifted'\u001b[0m\u001b[1;33m,\u001b[0m \u001b[0mlegend\u001b[0m\u001b[1;33m=\u001b[0m\u001b[1;32mTrue\u001b[0m\u001b[1;33m,\u001b[0m \u001b[0mdata\u001b[0m \u001b[1;33m=\u001b[0m \u001b[0mrecycle\u001b[0m\u001b[1;33m)\u001b[0m\u001b[1;33m.\u001b[0m\u001b[0mset_title\u001b[0m\u001b[1;33m(\u001b[0m\u001b[1;34m'Zone distribution'\u001b[0m\u001b[1;33m)\u001b[0m\u001b[1;33m\u001b[0m\u001b[1;33m\u001b[0m\u001b[0m\n\u001b[0m",
      "\u001b[1;31mAttributeError\u001b[0m: 'FacetGrid' object has no attribute 'set_title'"
     ]
    },
    {
     "data": {
      "image/png": "[encoded data removed]",
      "text/plain": [
       "<Figure size 576x288 with 1 Axes>"
      ]
     },
     "metadata": {},
     "output_type": "display_data"
    }
   ],
   "source": [
    "sns.factorplot(x = 'Zone', kind='count', height= 4, aspect= 2, color = True, palette = 'twilight_shifted', legend=True, data = recycle).set_title('Zone distribution')"
   ]
  },
  {
   "cell_type": "code",
   "execution_count": 30,
   "metadata": {},
   "outputs": [
    {
     "name": "stderr",
     "output_type": "stream",
     "text": [
      "C:\\Users\\HP PROBOOK 430 G3\\anaconda3\\lib\\site-packages\\seaborn\\_decorators.py:36: FutureWarning: Pass the following variables as keyword args: x, y. From version 0.12, the only valid positional argument will be `data`, and passing other arguments without an explicit keyword will result in an error or misinterpretation.\n",
      "  warnings.warn(\n"
     ]
    },
    {
     "data": {
      "text/plain": [
       "Text(0.5, 1.0, 'Total number of recycled materials obtained from total wastes across the months')"
      ]
     },
     "execution_count": 30,
     "metadata": {},
     "output_type": "execute_result"
    },
    {
     "data": {
      "image/png": "[encoded data removed]",
      "text/plain": [
       "<Figure size 432x288 with 1 Axes>"
      ]
     },
     "metadata": {},
     "output_type": "display_data"
    }
   ],
   "source": [
    "sns.barplot(recycle['Month'], recycle['Diversion Rate-Total'], color = True, palette = 'magma').set_title('Total number of recycled materials obtained from total wastes across the months')"
   ]
  },
  {
   "cell_type": "code",
   "execution_count": 31,
   "metadata": {},
   "outputs": [
    {
     "name": "stderr",
     "output_type": "stream",
     "text": [
      "C:\\Users\\HP PROBOOK 430 G3\\anaconda3\\lib\\site-packages\\seaborn\\_decorators.py:36: FutureWarning: Pass the following variables as keyword args: x, y. From version 0.12, the only valid positional argument will be `data`, and passing other arguments without an explicit keyword will result in an error or misinterpretation.\n",
      "  warnings.warn(\n"
     ]
    },
    {
     "data": {
      "text/plain": [
       "Text(0.5, 1.0, 'Total number of recycled paper across the months')"
      ]
     },
     "execution_count": 31,
     "metadata": {},
     "output_type": "execute_result"
    },
    {
     "data": {
      "image/png": "[encoded data removed]",
      "text/plain": [
       "<Figure size 432x288 with 1 Axes>"
      ]
     },
     "metadata": {},
     "output_type": "display_data"
    }
   ],
   "source": [
    "sns.barplot(recycle['Month'], recycle['Capture Rate-Paper'], color = True, palette = 'magma').set_title('Total number of recycled paper across the months')"
   ]
  },
  {
   "cell_type": "code",
   "execution_count": 32,
   "metadata": {},
   "outputs": [
    {
     "name": "stderr",
     "output_type": "stream",
     "text": [
      "C:\\Users\\HP PROBOOK 430 G3\\anaconda3\\lib\\site-packages\\seaborn\\_decorators.py:36: FutureWarning: Pass the following variables as keyword args: x, y. From version 0.12, the only valid positional argument will be `data`, and passing other arguments without an explicit keyword will result in an error or misinterpretation.\n",
      "  warnings.warn(\n"
     ]
    },
    {
     "data": {
      "text/plain": [
       "Text(0.5, 1.0, 'Total rate of recycled Metals, Glass and Plastics across the Months')"
      ]
     },
     "execution_count": 32,
     "metadata": {},
     "output_type": "execute_result"
    },
    {
     "data": {
      "image/png": "[encoded data removed]",
      "text/plain": [
       "<Figure size 432x288 with 1 Axes>"
      ]
     },
     "metadata": {},
     "output_type": "display_data"
    }
   ],
   "source": [
    "sns.barplot(recycle['Month'], recycle['Capture Rate-MGP'], color = True, palette = 'icefire').set_title('Total rate of recycled Metals, Glass and Plastics across the Months')"
   ]
  },
  {
   "cell_type": "code",
   "execution_count": 33,
   "metadata": {},
   "outputs": [
    {
     "name": "stderr",
     "output_type": "stream",
     "text": [
      "C:\\Users\\HP PROBOOK 430 G3\\anaconda3\\lib\\site-packages\\seaborn\\_decorators.py:36: FutureWarning: Pass the following variables as keyword args: x, y. From version 0.12, the only valid positional argument will be `data`, and passing other arguments without an explicit keyword will result in an error or misinterpretation.\n",
      "  warnings.warn(\n"
     ]
    },
    {
     "data": {
      "text/plain": [
       "Text(0.5, 1.0, 'Total number of recycled materials across the months')"
      ]
     },
     "execution_count": 33,
     "metadata": {},
     "output_type": "execute_result"
    },
    {
     "data": {
      "image/png": "[encoded data removed]",
      "text/plain": [
       "<Figure size 432x288 with 1 Axes>"
      ]
     },
     "metadata": {},
     "output_type": "display_data"
    }
   ],
   "source": [
    "sns.barplot(recycle['Month'], recycle['Capture Rate-Total'], color = True, aspect= True, palette = 'icefire').set_title('Total number of recycled materials across the months')"
   ]
  },
  {
   "cell_type": "code",
   "execution_count": 34,
   "metadata": {},
   "outputs": [
    {
     "name": "stderr",
     "output_type": "stream",
     "text": [
      "C:\\Users\\HP PROBOOK 430 G3\\anaconda3\\lib\\site-packages\\seaborn\\_decorators.py:36: FutureWarning: Pass the following variables as keyword args: x, y. From version 0.12, the only valid positional argument will be `data`, and passing other arguments without an explicit keyword will result in an error or misinterpretation.\n",
      "  warnings.warn(\n"
     ]
    },
    {
     "data": {
      "text/plain": [
       "<AxesSubplot:xlabel='Zone', ylabel='Diversion Rate-Total'>"
      ]
     },
     "execution_count": 34,
     "metadata": {},
     "output_type": "execute_result"
    },
    {
     "data": {
      "image/png": "[encoded data removed]",
      "text/plain": [
       "<Figure size 432x288 with 1 Axes>"
      ]
     },
     "metadata": {},
     "output_type": "display_data"
    }
   ],
   "source": [
    "sns.barplot(recycle['Zone'], recycle['Diversion Rate-Total'], color = True, palette = 'magma')"
   ]
  },
  {
   "cell_type": "code",
   "execution_count": 200,
   "metadata": {},
   "outputs": [
    {
     "name": "stderr",
     "output_type": "stream",
     "text": [
      "C:\\Users\\HP PROBOOK 430 G3\\anaconda3\\lib\\site-packages\\seaborn\\_decorators.py:36: FutureWarning: Pass the following variables as keyword args: x, y. From version 0.12, the only valid positional argument will be `data`, and passing other arguments without an explicit keyword will result in an error or misinterpretation.\n",
      "  warnings.warn(\n"
     ]
    },
    {
     "data": {
      "text/plain": [
       "Text(0.5, 1.0, 'Zones and the total recyclable materials obtained from their total wastes')"
      ]
     },
     "execution_count": 200,
     "metadata": {},
     "output_type": "execute_result"
    },
    {
     "data": {
      "image/png": "[encoded data removed]",
      "text/plain": [
       "<Figure size 432x288 with 1 Axes>"
      ]
     },
     "metadata": {},
     "output_type": "display_data"
    }
   ],
   "source": [
    "sns.barplot(recycle['Zone'], recycle['Diversion Rate-Total'], color = True, palette = 'magma').set_title('Zones and the total recyclable materials obtained from their total wastes')"
   ]
  },
  {
   "cell_type": "code",
   "execution_count": 201,
   "metadata": {},
   "outputs": [
    {
     "name": "stderr",
     "output_type": "stream",
     "text": [
      "C:\\Users\\HP PROBOOK 430 G3\\anaconda3\\lib\\site-packages\\seaborn\\_decorators.py:36: FutureWarning: Pass the following variables as keyword args: x, y. From version 0.12, the only valid positional argument will be `data`, and passing other arguments without an explicit keyword will result in an error or misinterpretation.\n",
      "  warnings.warn(\n"
     ]
    },
    {
     "data": {
      "text/plain": [
       "Text(0.5, 1.0, 'Zones and the percentage of total recyclable materials')"
      ]
     },
     "execution_count": 201,
     "metadata": {},
     "output_type": "execute_result"
    },
    {
     "data": {
      "image/png": "[encoded data removed]",
      "text/plain": [
       "<Figure size 432x288 with 1 Axes>"
      ]
     },
     "metadata": {},
     "output_type": "display_data"
    }
   ],
   "source": [
    "sns.barplot(recycle['Zone'], recycle['Capture Rate-Total'], color = True, palette = 'icefire_r').set_title('Zones and the percentage of total recyclable materials')"
   ]
  },
  {
   "cell_type": "code",
   "execution_count": 202,
   "metadata": {},
   "outputs": [
    {
     "name": "stderr",
     "output_type": "stream",
     "text": [
      "C:\\Users\\HP PROBOOK 430 G3\\anaconda3\\lib\\site-packages\\seaborn\\_decorators.py:36: FutureWarning: Pass the following variables as keyword args: x, y. From version 0.12, the only valid positional argument will be `data`, and passing other arguments without an explicit keyword will result in an error or misinterpretation.\n",
      "  warnings.warn(\n"
     ]
    },
    {
     "data": {
      "text/plain": [
       "Text(0.5, 1.0, 'Zones and their total number of recycled paper')"
      ]
     },
     "execution_count": 202,
     "metadata": {},
     "output_type": "execute_result"
    },
    {
     "data": {
      "image/png": "[encoded data removed]",
      "text/plain": [
       "<Figure size 432x288 with 1 Axes>"
      ]
     },
     "metadata": {},
     "output_type": "display_data"
    }
   ],
   "source": [
    "sns.barplot(recycle['Zone'], recycle['Capture Rate-Paper'], color = True, palette = 'icefire').set_title('Zones and their total number of recycled paper')"
   ]
  },
  {
   "cell_type": "code",
   "execution_count": 203,
   "metadata": {},
   "outputs": [
    {
     "name": "stderr",
     "output_type": "stream",
     "text": [
      "C:\\Users\\HP PROBOOK 430 G3\\anaconda3\\lib\\site-packages\\seaborn\\_decorators.py:36: FutureWarning: Pass the following variables as keyword args: x, y. From version 0.12, the only valid positional argument will be `data`, and passing other arguments without an explicit keyword will result in an error or misinterpretation.\n",
      "  warnings.warn(\n"
     ]
    },
    {
     "data": {
      "text/plain": [
       "Text(0.5, 1.0, 'Zones and their total number of recyclable metals, glass and plastics')"
      ]
     },
     "execution_count": 203,
     "metadata": {},
     "output_type": "execute_result"
    },
    {
     "data": {
      "image/png": "[encoded data removed]",
      "text/plain": [
       "<Figure size 432x288 with 1 Axes>"
      ]
     },
     "metadata": {},
     "output_type": "display_data"
    }
   ],
   "source": [
    "sns.barplot(recycle['Zone'], recycle['Capture Rate-MGP'], color = True, palette = 'coolwarm').set_title('Zones and their total number of recyclable metals, glass and plastics')"
   ]
  },
  {
   "cell_type": "code",
   "execution_count": 35,
   "metadata": {},
   "outputs": [
    {
     "data": {
      "image/png": "[encoded data removed]",
      "text/plain": [
       "<Figure size 432x288 with 1 Axes>"
      ]
     },
     "metadata": {},
     "output_type": "display_data"
    }
   ],
   "source": [
    "labels = 'Agege', 'Ajah', 'Ikoyi', 'Lekki', 'Magodo', 'Mushin', 'Yaba'\n",
    "sizes = [41,52,58,55,55,41,58]\n",
    "colors = ['gold','lightgrey' ,'pink' ,'yellowgreen' ,'grey','brown', 'lightskyblue']\n",
    "explode = (0,0, 0.3, 0.3,0,0,0)\n",
    "plt.pie(sizes, labels=labels,explode= explode, colors=colors,\n",
    "autopct='%1.1f%%', shadow=True, startangle= 360)\n",
    "plt.rcParams['figure.figsize']=(10,5)\n",
    "plt.axis('equal')\n",
    "plt.title('Relationship between each zone and their Recycled waste')\n",
    "plt.show()"
   ]
  },
  {
   "cell_type": "markdown",
   "metadata": {},
   "source": [
    "#### Training and testing data"
   ]
  },
  {
   "cell_type": "code",
   "execution_count": 208,
   "metadata": {},
   "outputs": [],
   "source": [
    "from pandas.plotting import scatter_matrix\n",
    "from sklearn import model_selection\n",
    "from sklearn import metrics\n",
    "from sklearn.metrics import classification_report\n",
    "from sklearn.metrics import confusion_matrix\n",
    "from sklearn.metrics import accuracy_score\n",
    "from sklearn.linear_model import LogisticRegression\n",
    "from sklearn.tree import DecisionTreeClassifier\n",
    "from sklearn.neighbors import KNeighborsClassifier\n",
    "from sklearn.discriminant_analysis import LinearDiscriminantAnalysis\n",
    "from sklearn.naive_bayes import GaussianNB\n",
    "from sklearn.svm import SVC\n",
    "from sklearn.ensemble import RandomForestClassifier\n",
    "from sklearn.ensemble import GradientBoostingClassifier"
   ]
  },
  {
   "cell_type": "code",
   "execution_count": 209,
   "metadata": {},
   "outputs": [],
   "source": [
    "x= recycle[['Diversion Rate-Total','Capture Rate-Paper','Capture Rate-MGP']]\n",
    "Y = recycle['Capture Rate-Total']"
   ]
  },
  {
   "cell_type": "code",
   "execution_count": 210,
   "metadata": {},
   "outputs": [
    {
     "data": {
      "text/html": [
       "<div>\n",
       "<style scoped>\n",
       "    .dataframe tbody tr th:only-of-type {\n",
       "        vertical-align: middle;\n",
       "    }\n",
       "\n",
       "    .dataframe tbody tr th {\n",
       "        vertical-align: top;\n",
       "    }\n",
       "\n",
       "    .dataframe thead th {\n",
       "        text-align: right;\n",
       "    }\n",
       "</style>\n",
       "<table border=\"1\" class=\"dataframe\">\n",
       "  <thead>\n",
       "    <tr style=\"text-align: right;\">\n",
       "      <th></th>\n",
       "      <th>Capture Rate-Total</th>\n",
       "    </tr>\n",
       "  </thead>\n",
       "  <tbody>\n",
       "    <tr>\n",
       "      <th>1299</th>\n",
       "      <td>39.984384</td>\n",
       "    </tr>\n",
       "    <tr>\n",
       "      <th>941</th>\n",
       "      <td>48.099459</td>\n",
       "    </tr>\n",
       "    <tr>\n",
       "      <th>1707</th>\n",
       "      <td>56.776900</td>\n",
       "    </tr>\n",
       "    <tr>\n",
       "      <th>80</th>\n",
       "      <td>36.890438</td>\n",
       "    </tr>\n",
       "    <tr>\n",
       "      <th>1685</th>\n",
       "      <td>44.126400</td>\n",
       "    </tr>\n",
       "    <tr>\n",
       "      <th>...</th>\n",
       "      <td>...</td>\n",
       "    </tr>\n",
       "    <tr>\n",
       "      <th>660</th>\n",
       "      <td>64.652301</td>\n",
       "    </tr>\n",
       "    <tr>\n",
       "      <th>1508</th>\n",
       "      <td>41.953072</td>\n",
       "    </tr>\n",
       "    <tr>\n",
       "      <th>1934</th>\n",
       "      <td>49.582654</td>\n",
       "    </tr>\n",
       "    <tr>\n",
       "      <th>38</th>\n",
       "      <td>54.761771</td>\n",
       "    </tr>\n",
       "    <tr>\n",
       "      <th>891</th>\n",
       "      <td>37.161149</td>\n",
       "    </tr>\n",
       "  </tbody>\n",
       "</table>\n",
       "<p>850 rows × 1 columns</p>\n",
       "</div>"
      ],
      "text/plain": [
       "      Capture Rate-Total\n",
       "1299           39.984384\n",
       "941            48.099459\n",
       "1707           56.776900\n",
       "80             36.890438\n",
       "1685           44.126400\n",
       "...                  ...\n",
       "660            64.652301\n",
       "1508           41.953072\n",
       "1934           49.582654\n",
       "38             54.761771\n",
       "891            37.161149\n",
       "\n",
       "[850 rows x 1 columns]"
      ]
     },
     "execution_count": 210,
     "metadata": {},
     "output_type": "execute_result"
    }
   ],
   "source": [
    "from sklearn.model_selection import train_test_split\n",
    "x_train, x_test, Y_train, Y_test = train_test_split(x,Y, test_size=0.3, random_state=101)\n",
    "pd.DataFrame(Y_test)"
   ]
  },
  {
   "cell_type": "code",
   "execution_count": 211,
   "metadata": {},
   "outputs": [
    {
     "data": {
      "text/html": [
       "<div>\n",
       "<style scoped>\n",
       "    .dataframe tbody tr th:only-of-type {\n",
       "        vertical-align: middle;\n",
       "    }\n",
       "\n",
       "    .dataframe tbody tr th {\n",
       "        vertical-align: top;\n",
       "    }\n",
       "\n",
       "    .dataframe thead th {\n",
       "        text-align: right;\n",
       "    }\n",
       "</style>\n",
       "<table border=\"1\" class=\"dataframe\">\n",
       "  <thead>\n",
       "    <tr style=\"text-align: right;\">\n",
       "      <th></th>\n",
       "      <th>Diversion Rate-Total</th>\n",
       "      <th>Capture Rate-Paper</th>\n",
       "      <th>Capture Rate-MGP</th>\n",
       "    </tr>\n",
       "  </thead>\n",
       "  <tbody>\n",
       "    <tr>\n",
       "      <th>1567</th>\n",
       "      <td>23.995979</td>\n",
       "      <td>36.128076</td>\n",
       "      <td>73.859720</td>\n",
       "    </tr>\n",
       "    <tr>\n",
       "      <th>1772</th>\n",
       "      <td>11.810884</td>\n",
       "      <td>32.919604</td>\n",
       "      <td>43.072813</td>\n",
       "    </tr>\n",
       "    <tr>\n",
       "      <th>824</th>\n",
       "      <td>18.578570</td>\n",
       "      <td>43.419229</td>\n",
       "      <td>72.915034</td>\n",
       "    </tr>\n",
       "    <tr>\n",
       "      <th>90</th>\n",
       "      <td>24.508545</td>\n",
       "      <td>39.158655</td>\n",
       "      <td>70.655543</td>\n",
       "    </tr>\n",
       "    <tr>\n",
       "      <th>602</th>\n",
       "      <td>18.766371</td>\n",
       "      <td>44.317310</td>\n",
       "      <td>73.440308</td>\n",
       "    </tr>\n",
       "    <tr>\n",
       "      <th>...</th>\n",
       "      <td>...</td>\n",
       "      <td>...</td>\n",
       "      <td>...</td>\n",
       "    </tr>\n",
       "    <tr>\n",
       "      <th>599</th>\n",
       "      <td>29.019406</td>\n",
       "      <td>44.733697</td>\n",
       "      <td>84.063452</td>\n",
       "    </tr>\n",
       "    <tr>\n",
       "      <th>1599</th>\n",
       "      <td>12.951109</td>\n",
       "      <td>29.588153</td>\n",
       "      <td>42.447059</td>\n",
       "    </tr>\n",
       "    <tr>\n",
       "      <th>1361</th>\n",
       "      <td>9.869936</td>\n",
       "      <td>25.834326</td>\n",
       "      <td>41.396967</td>\n",
       "    </tr>\n",
       "    <tr>\n",
       "      <th>1547</th>\n",
       "      <td>15.691534</td>\n",
       "      <td>53.646308</td>\n",
       "      <td>43.885036</td>\n",
       "    </tr>\n",
       "    <tr>\n",
       "      <th>863</th>\n",
       "      <td>27.431030</td>\n",
       "      <td>44.355974</td>\n",
       "      <td>74.266976</td>\n",
       "    </tr>\n",
       "  </tbody>\n",
       "</table>\n",
       "<p>1982 rows × 3 columns</p>\n",
       "</div>"
      ],
      "text/plain": [
       "      Diversion Rate-Total  Capture Rate-Paper  Capture Rate-MGP\n",
       "1567             23.995979           36.128076         73.859720\n",
       "1772             11.810884           32.919604         43.072813\n",
       "824              18.578570           43.419229         72.915034\n",
       "90               24.508545           39.158655         70.655543\n",
       "602              18.766371           44.317310         73.440308\n",
       "...                    ...                 ...               ...\n",
       "599              29.019406           44.733697         84.063452\n",
       "1599             12.951109           29.588153         42.447059\n",
       "1361              9.869936           25.834326         41.396967\n",
       "1547             15.691534           53.646308         43.885036\n",
       "863              27.431030           44.355974         74.266976\n",
       "\n",
       "[1982 rows x 3 columns]"
      ]
     },
     "execution_count": 211,
     "metadata": {},
     "output_type": "execute_result"
    }
   ],
   "source": [
    "x_train"
   ]
  },
  {
   "cell_type": "code",
   "execution_count": 212,
   "metadata": {},
   "outputs": [],
   "source": [
    "from sklearn.linear_model import LinearRegression"
   ]
  },
  {
   "cell_type": "code",
   "execution_count": 213,
   "metadata": {},
   "outputs": [],
   "source": [
    "lm = LinearRegression()"
   ]
  },
  {
   "cell_type": "code",
   "execution_count": 214,
   "metadata": {},
   "outputs": [
    {
     "data": {
      "text/plain": [
       "LinearRegression()"
      ]
     },
     "execution_count": 214,
     "metadata": {},
     "output_type": "execute_result"
    }
   ],
   "source": [
    "lm.fit(x_train,Y_train)"
   ]
  },
  {
   "cell_type": "code",
   "execution_count": 215,
   "metadata": {},
   "outputs": [
    {
     "data": {
      "text/html": [
       "<div>\n",
       "<style scoped>\n",
       "    .dataframe tbody tr th:only-of-type {\n",
       "        vertical-align: middle;\n",
       "    }\n",
       "\n",
       "    .dataframe tbody tr th {\n",
       "        vertical-align: top;\n",
       "    }\n",
       "\n",
       "    .dataframe thead th {\n",
       "        text-align: right;\n",
       "    }\n",
       "</style>\n",
       "<table border=\"1\" class=\"dataframe\">\n",
       "  <thead>\n",
       "    <tr style=\"text-align: right;\">\n",
       "      <th></th>\n",
       "      <th>Coefficient</th>\n",
       "    </tr>\n",
       "  </thead>\n",
       "  <tbody>\n",
       "    <tr>\n",
       "      <th>Diversion Rate-Total</th>\n",
       "      <td>-0.405890</td>\n",
       "    </tr>\n",
       "    <tr>\n",
       "      <th>Capture Rate-Paper</th>\n",
       "      <td>0.731218</td>\n",
       "    </tr>\n",
       "    <tr>\n",
       "      <th>Capture Rate-MGP</th>\n",
       "      <td>0.398010</td>\n",
       "    </tr>\n",
       "  </tbody>\n",
       "</table>\n",
       "</div>"
      ],
      "text/plain": [
       "                      Coefficient\n",
       "Diversion Rate-Total    -0.405890\n",
       "Capture Rate-Paper       0.731218\n",
       "Capture Rate-MGP         0.398010"
      ]
     },
     "execution_count": 215,
     "metadata": {},
     "output_type": "execute_result"
    }
   ],
   "source": [
    "coeff_df = pd.DataFrame(lm.coef_,x.columns,columns=['Coefficient'])\n",
    "coeff_df"
   ]
  },
  {
   "cell_type": "code",
   "execution_count": 216,
   "metadata": {},
   "outputs": [],
   "source": [
    "prediction = lm.predict(x_test)"
   ]
  },
  {
   "cell_type": "code",
   "execution_count": 217,
   "metadata": {},
   "outputs": [
    {
     "data": {
      "text/html": [
       "<div>\n",
       "<style scoped>\n",
       "    .dataframe tbody tr th:only-of-type {\n",
       "        vertical-align: middle;\n",
       "    }\n",
       "\n",
       "    .dataframe tbody tr th {\n",
       "        vertical-align: top;\n",
       "    }\n",
       "\n",
       "    .dataframe thead th {\n",
       "        text-align: right;\n",
       "    }\n",
       "</style>\n",
       "<table border=\"1\" class=\"dataframe\">\n",
       "  <thead>\n",
       "    <tr style=\"text-align: right;\">\n",
       "      <th></th>\n",
       "      <th>0</th>\n",
       "    </tr>\n",
       "  </thead>\n",
       "  <tbody>\n",
       "    <tr>\n",
       "      <th>0</th>\n",
       "      <td>39.895020</td>\n",
       "    </tr>\n",
       "    <tr>\n",
       "      <th>1</th>\n",
       "      <td>48.482585</td>\n",
       "    </tr>\n",
       "    <tr>\n",
       "      <th>2</th>\n",
       "      <td>55.595464</td>\n",
       "    </tr>\n",
       "    <tr>\n",
       "      <th>3</th>\n",
       "      <td>35.606740</td>\n",
       "    </tr>\n",
       "    <tr>\n",
       "      <th>4</th>\n",
       "      <td>45.182651</td>\n",
       "    </tr>\n",
       "  </tbody>\n",
       "</table>\n",
       "</div>"
      ],
      "text/plain": [
       "           0\n",
       "0  39.895020\n",
       "1  48.482585\n",
       "2  55.595464\n",
       "3  35.606740\n",
       "4  45.182651"
      ]
     },
     "execution_count": 217,
     "metadata": {},
     "output_type": "execute_result"
    }
   ],
   "source": [
    "pd.DataFrame(prediction).head()"
   ]
  },
  {
   "cell_type": "code",
   "execution_count": 218,
   "metadata": {},
   "outputs": [
    {
     "data": {
      "text/plain": [
       "(1982, 3)"
      ]
     },
     "execution_count": 218,
     "metadata": {},
     "output_type": "execute_result"
    }
   ],
   "source": [
    "x_train.shape"
   ]
  },
  {
   "cell_type": "code",
   "execution_count": 219,
   "metadata": {},
   "outputs": [
    {
     "data": {
      "text/plain": [
       "(1982,)"
      ]
     },
     "execution_count": 219,
     "metadata": {},
     "output_type": "execute_result"
    }
   ],
   "source": [
    "Y_train.shape"
   ]
  },
  {
   "cell_type": "code",
   "execution_count": 220,
   "metadata": {},
   "outputs": [
    {
     "name": "stdout",
     "output_type": "stream",
     "text": [
      "0.7809255298559279\n"
     ]
    }
   ],
   "source": [
    "print(lm.intercept_)"
   ]
  },
  {
   "cell_type": "code",
   "execution_count": 221,
   "metadata": {},
   "outputs": [],
   "source": [
    "#plt.figure()\n",
    "#plt.scatter(Y_test, prediction, alpha = 1.0, c= 'b');\n",
    "#plt.xlabel('Y test')\n",
    "#plt.ylabel('Predicted Y')"
   ]
  },
  {
   "cell_type": "code",
   "execution_count": 222,
   "metadata": {},
   "outputs": [],
   "source": [
    "from sklearn import metrics "
   ]
  },
  {
   "cell_type": "code",
   "execution_count": 223,
   "metadata": {},
   "outputs": [
    {
     "data": {
      "text/plain": [
       "(850,)"
      ]
     },
     "execution_count": 223,
     "metadata": {},
     "output_type": "execute_result"
    }
   ],
   "source": [
    "prediction.shape"
   ]
  },
  {
   "cell_type": "code",
   "execution_count": 224,
   "metadata": {},
   "outputs": [
    {
     "name": "stdout",
     "output_type": "stream",
     "text": [
      "MAE: 0.8902373392531038\n",
      "MSE: 1.336127033898299\n",
      "RMSE: 1.1559096132043798\n"
     ]
    }
   ],
   "source": [
    "print('MAE:', metrics.mean_absolute_error(Y_test,prediction))\n",
    "print('MSE:', metrics.mean_squared_error(Y_test,prediction))\n",
    "print('RMSE:', np.sqrt(metrics.mean_squared_error(Y_test,prediction))) "
   ]
  },
  {
   "cell_type": "code",
   "execution_count": 225,
   "metadata": {},
   "outputs": [
    {
     "data": {
      "text/html": [
       "<div>\n",
       "<style scoped>\n",
       "    .dataframe tbody tr th:only-of-type {\n",
       "        vertical-align: middle;\n",
       "    }\n",
       "\n",
       "    .dataframe tbody tr th {\n",
       "        vertical-align: top;\n",
       "    }\n",
       "\n",
       "    .dataframe thead th {\n",
       "        text-align: right;\n",
       "    }\n",
       "</style>\n",
       "<table border=\"1\" class=\"dataframe\">\n",
       "  <thead>\n",
       "    <tr style=\"text-align: right;\">\n",
       "      <th></th>\n",
       "      <th>Coefficient</th>\n",
       "    </tr>\n",
       "  </thead>\n",
       "  <tbody>\n",
       "    <tr>\n",
       "      <th>Diversion Rate-Total</th>\n",
       "      <td>-0.405890</td>\n",
       "    </tr>\n",
       "    <tr>\n",
       "      <th>Capture Rate-Paper</th>\n",
       "      <td>0.731218</td>\n",
       "    </tr>\n",
       "    <tr>\n",
       "      <th>Capture Rate-MGP</th>\n",
       "      <td>0.398010</td>\n",
       "    </tr>\n",
       "  </tbody>\n",
       "</table>\n",
       "</div>"
      ],
      "text/plain": [
       "                      Coefficient\n",
       "Diversion Rate-Total    -0.405890\n",
       "Capture Rate-Paper       0.731218\n",
       "Capture Rate-MGP         0.398010"
      ]
     },
     "execution_count": 225,
     "metadata": {},
     "output_type": "execute_result"
    }
   ],
   "source": [
    "coeff_df = pd.DataFrame(lm.coef_,x.columns,columns=['Coefficient'])\n",
    "coeff_df"
   ]
  },
  {
   "cell_type": "markdown",
   "metadata": {},
   "source": [
    "### Extracted insight derived from the dataset"
   ]
  },
  {
   "cell_type": "markdown",
   "metadata": {},
   "source": [
    "From the coefficients values,\n",
    "\n",
    "Holding all values intact, a unit increase in the capture rate total leads to a negative correlation between the amount of total waste diverted for recycling.\n",
    "\n",
    "The predicted model indicates an  89% accuracy that for each unit of total waste available, there is a 73 increase in the total unit of recycled paper"
   ]
  }
 ],
 "metadata": {
  "kernelspec": {
   "display_name": "Python 3",
   "language": "python",
   "name": "python3"
  },
  "language_info": {
   "codemirror_mode": {
    "name": "ipython",
    "version": 3
   },
   "file_extension": ".py",
   "mimetype": "text/x-python",
   "name": "python",
   "nbconvert_exporter": "python",
   "pygments_lexer": "ipython3",
   "version": "3.7.3"
  }
 },
 "nbformat": 4,
 "nbformat_minor": 5
}
